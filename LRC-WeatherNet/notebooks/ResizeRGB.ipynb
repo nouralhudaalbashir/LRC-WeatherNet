{
 "cells": [
  {
   "cell_type": "code",
   "execution_count": 4,
   "id": "7489bfcf-6143-4b02-a502-8266d5808079",
   "metadata": {},
   "outputs": [
    {
     "name": "stdout",
     "output_type": "stream",
     "text": [
      "\n",
      " Processing train/2022_rain (8512 images)\n"
     ]
    },
    {
     "name": "stderr",
     "output_type": "stream",
     "text": [
      "2022_rain: 100%|████████████████████████████████████████████████████████████████████████████████| 8512/8512 [01:52<00:00, 75.86img/s]\n"
     ]
    },
    {
     "name": "stdout",
     "output_type": "stream",
     "text": [
      "\n",
      " Processing train/2022_spring (9703 images)\n"
     ]
    },
    {
     "name": "stderr",
     "output_type": "stream",
     "text": [
      "2022_spring: 100%|██████████████████████████████████████████████████████████████████████████████| 9703/9703 [03:24<00:00, 47.49img/s]\n"
     ]
    },
    {
     "name": "stdout",
     "output_type": "stream",
     "text": [
      "\n",
      " Processing train/2022_spring_snow (10273 images)\n"
     ]
    },
    {
     "name": "stderr",
     "output_type": "stream",
     "text": [
      "2022_spring_snow: 100%|███████████████████████████████████████████████████████████████████████| 10273/10273 [02:41<00:00, 63.43img/s]\n"
     ]
    },
    {
     "name": "stdout",
     "output_type": "stream",
     "text": [
      "\n",
      " Processing train/2023_early_fall (10240 images)\n"
     ]
    },
    {
     "name": "stderr",
     "output_type": "stream",
     "text": [
      "2023_early_fall: 100%|████████████████████████████████████████████████████████████████████████| 10240/10240 [03:07<00:00, 54.60img/s]\n"
     ]
    },
    {
     "name": "stdout",
     "output_type": "stream",
     "text": [
      "\n",
      " Processing train/2023_fall_sunset (9543 images)\n"
     ]
    },
    {
     "name": "stderr",
     "output_type": "stream",
     "text": [
      "2023_fall_sunset: 100%|█████████████████████████████████████████████████████████████████████████| 9543/9543 [02:57<00:00, 53.89img/s]\n"
     ]
    },
    {
     "name": "stdout",
     "output_type": "stream",
     "text": [
      "\n",
      " Processing train/2023_fall_sunset_2 (13173 images)\n"
     ]
    },
    {
     "name": "stderr",
     "output_type": "stream",
     "text": [
      "2023_fall_sunset_2: 100%|█████████████████████████████████████████████████████████████████████| 13173/13173 [03:16<00:00, 67.13img/s]\n"
     ]
    },
    {
     "name": "stdout",
     "output_type": "stream",
     "text": [
      "\n",
      " Processing train/2023_late_summer (10221 images)\n"
     ]
    },
    {
     "name": "stderr",
     "output_type": "stream",
     "text": [
      "2023_late_summer: 100%|███████████████████████████████████████████████████████████████████████| 10221/10221 [03:32<00:00, 48.19img/s]\n"
     ]
    },
    {
     "name": "stdout",
     "output_type": "stream",
     "text": [
      "\n",
      " Processing train/2023_neighborhood_fall (13495 images)\n"
     ]
    },
    {
     "name": "stderr",
     "output_type": "stream",
     "text": [
      "2023_neighborhood_fall: 100%|█████████████████████████████████████████████████████████████████| 13495/13495 [04:19<00:00, 52.02img/s]\n"
     ]
    },
    {
     "name": "stdout",
     "output_type": "stream",
     "text": [
      "\n",
      " Processing train/2023_snow (11407 images)\n"
     ]
    },
    {
     "name": "stderr",
     "output_type": "stream",
     "text": [
      "2023_snow: 100%|██████████████████████████████████████████████████████████████████████████████| 11407/11407 [03:06<00:00, 61.20img/s]\n"
     ]
    },
    {
     "name": "stdout",
     "output_type": "stream",
     "text": [
      "\n",
      " Processing val/2022_rain (2837 images)\n"
     ]
    },
    {
     "name": "stderr",
     "output_type": "stream",
     "text": [
      "2022_rain: 100%|████████████████████████████████████████████████████████████████████████████████| 2837/2837 [00:50<00:00, 55.94img/s]\n"
     ]
    },
    {
     "name": "stdout",
     "output_type": "stream",
     "text": [
      "\n",
      " Processing val/2022_spring (3234 images)\n"
     ]
    },
    {
     "name": "stderr",
     "output_type": "stream",
     "text": [
      "2022_spring: 100%|██████████████████████████████████████████████████████████████████████████████| 3234/3234 [01:08<00:00, 47.02img/s]\n"
     ]
    },
    {
     "name": "stdout",
     "output_type": "stream",
     "text": [
      "\n",
      " Processing val/2022_spring_snow (3424 images)\n"
     ]
    },
    {
     "name": "stderr",
     "output_type": "stream",
     "text": [
      "2022_spring_snow: 100%|█████████████████████████████████████████████████████████████████████████| 3424/3424 [00:52<00:00, 64.75img/s]\n"
     ]
    },
    {
     "name": "stdout",
     "output_type": "stream",
     "text": [
      "\n",
      " Processing val/2023_early_fall (3413 images)\n"
     ]
    },
    {
     "name": "stderr",
     "output_type": "stream",
     "text": [
      "2023_early_fall: 100%|██████████████████████████████████████████████████████████████████████████| 3413/3413 [00:53<00:00, 64.02img/s]\n"
     ]
    },
    {
     "name": "stdout",
     "output_type": "stream",
     "text": [
      "\n",
      " Processing val/2023_fall_sunset (3181 images)\n"
     ]
    },
    {
     "name": "stderr",
     "output_type": "stream",
     "text": [
      "2023_fall_sunset: 100%|█████████████████████████████████████████████████████████████████████████| 3181/3181 [00:51<00:00, 61.23img/s]\n"
     ]
    },
    {
     "name": "stdout",
     "output_type": "stream",
     "text": [
      "\n",
      " Processing val/2023_fall_sunset_2 (4391 images)\n"
     ]
    },
    {
     "name": "stderr",
     "output_type": "stream",
     "text": [
      "2023_fall_sunset_2: 100%|███████████████████████████████████████████████████████████████████████| 4391/4391 [00:56<00:00, 77.20img/s]\n"
     ]
    },
    {
     "name": "stdout",
     "output_type": "stream",
     "text": [
      "\n",
      " Processing val/2023_late_summer (3407 images)\n"
     ]
    },
    {
     "name": "stderr",
     "output_type": "stream",
     "text": [
      "2023_late_summer: 100%|█████████████████████████████████████████████████████████████████████████| 3407/3407 [00:59<00:00, 56.94img/s]\n"
     ]
    },
    {
     "name": "stdout",
     "output_type": "stream",
     "text": [
      "\n",
      " Processing val/2023_neighborhood_fall (4498 images)\n"
     ]
    },
    {
     "name": "stderr",
     "output_type": "stream",
     "text": [
      "2023_neighborhood_fall: 100%|███████████████████████████████████████████████████████████████████| 4498/4498 [01:21<00:00, 55.27img/s]\n"
     ]
    },
    {
     "name": "stdout",
     "output_type": "stream",
     "text": [
      "\n",
      " Processing val/2023_snow (3802 images)\n"
     ]
    },
    {
     "name": "stderr",
     "output_type": "stream",
     "text": [
      "2023_snow: 100%|████████████████████████████████████████████████████████████████████████████████| 3802/3802 [01:00<00:00, 63.16img/s]\n"
     ]
    },
    {
     "name": "stdout",
     "output_type": "stream",
     "text": [
      "\n",
      " Processing test/2022_rain (2839 images)\n"
     ]
    },
    {
     "name": "stderr",
     "output_type": "stream",
     "text": [
      "2022_rain: 100%|████████████████████████████████████████████████████████████████████████████████| 2839/2839 [00:52<00:00, 53.93img/s]\n"
     ]
    },
    {
     "name": "stdout",
     "output_type": "stream",
     "text": [
      "\n",
      " Processing test/2022_spring (3235 images)\n"
     ]
    },
    {
     "name": "stderr",
     "output_type": "stream",
     "text": [
      "2022_spring: 100%|██████████████████████████████████████████████████████████████████████████████| 3235/3235 [00:52<00:00, 61.08img/s]\n"
     ]
    },
    {
     "name": "stdout",
     "output_type": "stream",
     "text": [
      "\n",
      " Processing test/2022_spring_snow (3426 images)\n"
     ]
    },
    {
     "name": "stderr",
     "output_type": "stream",
     "text": [
      "2022_spring_snow: 100%|█████████████████████████████████████████████████████████████████████████| 3426/3426 [00:49<00:00, 68.98img/s]\n"
     ]
    },
    {
     "name": "stdout",
     "output_type": "stream",
     "text": [
      "\n",
      " Processing test/2023_early_fall (3414 images)\n"
     ]
    },
    {
     "name": "stderr",
     "output_type": "stream",
     "text": [
      "2023_early_fall: 100%|██████████████████████████████████████████████████████████████████████████| 3414/3414 [00:55<00:00, 61.38img/s]\n"
     ]
    },
    {
     "name": "stdout",
     "output_type": "stream",
     "text": [
      "\n",
      " Processing test/2023_fall_sunset (3181 images)\n"
     ]
    },
    {
     "name": "stderr",
     "output_type": "stream",
     "text": [
      "2023_fall_sunset: 100%|█████████████████████████████████████████████████████████████████████████| 3181/3181 [00:54<00:00, 58.73img/s]\n"
     ]
    },
    {
     "name": "stdout",
     "output_type": "stream",
     "text": [
      "\n",
      " Processing test/2023_fall_sunset_2 (4391 images)\n"
     ]
    },
    {
     "name": "stderr",
     "output_type": "stream",
     "text": [
      "2023_fall_sunset_2: 100%|███████████████████████████████████████████████████████████████████████| 4391/4391 [00:57<00:00, 76.14img/s]\n"
     ]
    },
    {
     "name": "stdout",
     "output_type": "stream",
     "text": [
      "\n",
      " Processing test/2023_late_summer (3407 images)\n"
     ]
    },
    {
     "name": "stderr",
     "output_type": "stream",
     "text": [
      "2023_late_summer: 100%|█████████████████████████████████████████████████████████████████████████| 3407/3407 [00:52<00:00, 64.53img/s]\n"
     ]
    },
    {
     "name": "stdout",
     "output_type": "stream",
     "text": [
      "\n",
      " Processing test/2023_neighborhood_fall (4500 images)\n"
     ]
    },
    {
     "name": "stderr",
     "output_type": "stream",
     "text": [
      "2023_neighborhood_fall: 100%|███████████████████████████████████████████████████████████████████| 4500/4500 [01:19<00:00, 56.86img/s]\n"
     ]
    },
    {
     "name": "stdout",
     "output_type": "stream",
     "text": [
      "\n",
      " Processing test/2023_snow (3803 images)\n"
     ]
    },
    {
     "name": "stderr",
     "output_type": "stream",
     "text": [
      "2023_snow: 100%|████████████████████████████████████████████████████████████████████████████████| 3803/3803 [01:02<00:00, 60.89img/s]"
     ]
    },
    {
     "name": "stdout",
     "output_type": "stream",
     "text": [
      "\n",
      " Done resizing all RGB images to 224×224.\n"
     ]
    },
    {
     "name": "stderr",
     "output_type": "stream",
     "text": [
      "\n"
     ]
    }
   ],
   "source": [
    "import os\n",
    "from PIL import Image\n",
    "from tqdm import tqdm\n",
    "\n",
    "# === CONFIG ===\n",
    "input_root = '/nfs/home/noualb20/IMG_600'\n",
    "output_root = '/nfs/home/noualb20/IMG_224'\n",
    "target_size = (224, 224)\n",
    "image_extensions = ('.jpg', '.jpeg', '.png')\n",
    "\n",
    "splits = ['train', 'val', 'test']\n",
    "\n",
    "# === PROCESSING ===\n",
    "for split in splits:\n",
    "    split_input_dir = os.path.join(input_root, split)\n",
    "    split_output_dir = os.path.join(output_root, split)\n",
    "    os.makedirs(split_output_dir, exist_ok=True)\n",
    "\n",
    "    class_folders = sorted(os.listdir(split_input_dir))\n",
    "\n",
    "    for class_name in class_folders:\n",
    "        class_input_dir = os.path.join(split_input_dir, class_name)\n",
    "        class_output_dir = os.path.join(split_output_dir, class_name)\n",
    "        os.makedirs(class_output_dir, exist_ok=True)\n",
    "\n",
    "        image_files = [\n",
    "            f for f in os.listdir(class_input_dir)\n",
    "            if f.lower().endswith(image_extensions)\n",
    "        ]\n",
    "\n",
    "        print(f\"\\n Processing {split}/{class_name} ({len(image_files)} images)\")\n",
    "\n",
    "        for fname in tqdm(image_files, desc=f\"{class_name}\", unit=\"img\"):\n",
    "            input_path = os.path.join(class_input_dir, fname)\n",
    "            output_path = os.path.join(class_output_dir, fname)\n",
    "\n",
    "            if os.path.exists(output_path):\n",
    "                continue  #  Skip if already resized\n",
    "\n",
    "            try:\n",
    "                with Image.open(input_path) as img:\n",
    "                    resized = img.resize(target_size, Image.LANCZOS)\n",
    "                    resized.save(output_path)\n",
    "            except Exception as e:\n",
    "                print(f\" Error processing {input_path}: {e}\")\n",
    "\n",
    "print(\"\\n Done resizing all RGB images to 224×224.\")\n"
   ]
  }
 ],
 "metadata": {
  "kernelspec": {
   "display_name": "Python 3 (ipykernel)",
   "language": "python",
   "name": "python3"
  },
  "language_info": {
   "codemirror_mode": {
    "name": "ipython",
    "version": 3
   },
   "file_extension": ".py",
   "mimetype": "text/x-python",
   "name": "python",
   "nbconvert_exporter": "python",
   "pygments_lexer": "ipython3",
   "version": "3.10.16"
  }
 },
 "nbformat": 4,
 "nbformat_minor": 5
}
